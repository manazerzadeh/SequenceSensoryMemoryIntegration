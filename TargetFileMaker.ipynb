{
 "cells": [
  {
   "cell_type": "code",
   "execution_count": 274,
   "metadata": {},
   "outputs": [],
   "source": [
    "import pandas as pd\n",
    "import numpy as np\n",
    "import itertools"
   ]
  },
  {
   "cell_type": "code",
   "execution_count": 275,
   "metadata": {},
   "outputs": [],
   "source": [
    "fingers = ['1', '2', '3', '4', '5']"
   ]
  },
  {
   "cell_type": "markdown",
   "metadata": {},
   "source": [
    "# Calculating valid sequences with rules"
   ]
  },
  {
   "cell_type": "code",
   "execution_count": 276,
   "metadata": {},
   "outputs": [],
   "source": [
    "presses_per_finger= {\n",
    "    1:1,\n",
    "    2:2,\n",
    "    3:1,\n",
    "    4:2,\n",
    "    5:1,\n",
    "}"
   ]
  },
  {
   "cell_type": "code",
   "execution_count": 277,
   "metadata": {},
   "outputs": [],
   "source": [
    "def check_illegal_seq(seq):\n",
    "    #check runs of 3\n",
    "    for pos in range(len(seq)- 2):\n",
    "        if (int(seq[pos]) == int(seq[pos + 1]) + 1 and int(seq[pos+1]) == int(seq[pos+2]) + 1):\n",
    "            return True\n",
    "        if (int(seq[pos]) == int(seq[pos + 1]) - 1 and int(seq[pos+1]) == int(seq[pos+2]) - 1):\n",
    "            return True\n",
    "    \n",
    "    #check double press\n",
    "    \n",
    "    for pos in range(len(seq) - 1):\n",
    "        if(int(seq[pos]) == int(seq[pos+1])):\n",
    "            return True\n",
    "        \n",
    "\n",
    "    for finger in fingers:\n",
    "        if seq.count(finger) == 0:\n",
    "            return True\n",
    "        \n",
    "\n",
    "    # # match presses per finger \n",
    "    # for finger in fingers:\n",
    "    #     if seq.count(finger) != presses_per_finger[int(finger)]:\n",
    "    #         return True\n",
    "        \n",
    "    return False"
   ]
  },
  {
   "cell_type": "code",
   "execution_count": 278,
   "metadata": {},
   "outputs": [
    {
     "data": {
      "text/plain": [
       "False"
      ]
     },
     "execution_count": 278,
     "metadata": {},
     "output_type": "execute_result"
    }
   ],
   "source": [
    "check_illegal_seq('1243542')"
   ]
  },
  {
   "cell_type": "code",
   "execution_count": 279,
   "metadata": {},
   "outputs": [],
   "source": [
    "valid_sequences = []\n",
    "\n",
    "# generate all possible sequences of 7 digits from 1 to 5\n",
    "for seq in itertools.product(range(1,6), repeat=7):\n",
    "    seq = ''.join(map(str, seq))\n",
    "    if not check_illegal_seq(seq):\n",
    "        valid_sequences.append(seq)"
   ]
  },
  {
   "cell_type": "code",
   "execution_count": 280,
   "metadata": {},
   "outputs": [
    {
     "data": {
      "text/plain": [
       "5218"
      ]
     },
     "execution_count": 280,
     "metadata": {},
     "output_type": "execute_result"
    }
   ],
   "source": [
    "len(valid_sequences)"
   ]
  },
  {
   "cell_type": "markdown",
   "metadata": {},
   "source": [
    "# Generating Target Files"
   ]
  },
  {
   "cell_type": "code",
   "execution_count": 282,
   "metadata": {},
   "outputs": [],
   "source": [
    "windowSizes = ['1', '2', '3', '7']\n",
    "\n",
    "iti = 3000 \n",
    "execTime = 10000 # msecs for each trial maximum\n",
    "precueTime_interval = [600, 1000] # msecs for planning before movement \n",
    "hand = 2 #left or right hand\n",
    "num_trained_seq = 2\n",
    "\n",
    "total_sub_num = 20\n",
    "num_sessions = 3\n",
    "num_blocks_per_session = 12\n"
   ]
  },
  {
   "cell_type": "code",
   "execution_count": 283,
   "metadata": {},
   "outputs": [],
   "source": [
    "def determine_trained_seq_for_subj(subj_num):\n",
    "    np.random.seed(subj_num)\n",
    "    # while True:\n",
    "    #     selected_sequences = np.random.choice(valid_sequences, num_trained_seq, replace=False)\n",
    "    #     if sum([selected_sequences[0][i] == selected_sequences[1][i] for i in range(7)]) <= 2 and selected_sequences[0][0] != selected_sequences[1][0]:\n",
    "    #         return selected_sequences\n",
    "\n",
    "    selected_sequences = np.random.choice(valid_sequences, num_trained_seq, replace=False)\n",
    "    return selected_sequences\n"
   ]
  },
  {
   "cell_type": "code",
   "execution_count": 284,
   "metadata": {},
   "outputs": [
    {
     "name": "stdout",
     "output_type": "stream",
     "text": [
      "['2423251' '3415213']\n",
      "['1214532' '2451532']\n",
      "['3254124' '3241513']\n",
      "['1324353' '1413521']\n",
      "['2125341' '3412151']\n",
      "['2415313' '1453132']\n",
      "['5312141' '4152413']\n",
      "['1325451' '1451352']\n",
      "['4524213' '4352541']\n",
      "['4351325' '3542521']\n",
      "['3512434' '3142451']\n",
      "['1243545' '2153414']\n",
      "['3241425' '3531423']\n",
      "['2515342' '4215315']\n",
      "['5241535' '5153423']\n",
      "['2353145' '2524513']\n",
      "['4532351' '1324534']\n",
      "['5243135' '5421423']\n",
      "['3245341' '5154243']\n",
      "['2142523' '5143542']\n"
     ]
    }
   ],
   "source": [
    "for subnum in range(total_sub_num):\n",
    "    print(determine_trained_seq_for_subj(subnum))"
   ]
  },
  {
   "cell_type": "code",
   "execution_count": 285,
   "metadata": {},
   "outputs": [],
   "source": [
    "trained_symbols = ['#', '$']\n",
    "random_symbol = '%'"
   ]
  },
  {
   "cell_type": "code",
   "execution_count": 286,
   "metadata": {},
   "outputs": [],
   "source": [
    "### target file headers: [subNum, hand, isTrain, symbol, seq, isMasked, execTime, iti, precueTime, windowSize]\n",
    "\n",
    "for sub in range(total_sub_num):\n",
    "    \n",
    "    subNum = sub + 1\n",
    "    hand = 2\n",
    "    trained_seqs = determine_trained_seq_for_subj(subNum)\n",
    "    num_rep_rand = 2\n",
    "\n",
    "\n",
    "    for session in range(num_sessions):\n",
    "        for blocknum in range(num_blocks_per_session):\n",
    "            block = pd.DataFrame(columns=[\"subNum\", \"hand\", \"isTrain\", \"symbol\", \"seq\", \"isMasked\", \"execTime\", \"iti\", \"precueTime\", \"windowSize\"])\n",
    "\n",
    "            # Trained Trials\n",
    "            for seq_idx, seq in enumerate(trained_seqs):\n",
    "                symbol = trained_symbols[seq_idx]\n",
    "                for windowSize in windowSizes:\n",
    "                    #Memory only trial\n",
    "                    precueTime = np.random.randint(precueTime_interval[0], precueTime_interval[1])\n",
    "                    trial = pd.DataFrame([[subNum, hand, 1, symbol, seq, 1, execTime, iti, precueTime, windowSize]], columns = block.columns)\n",
    "                    block = pd.concat([block, trial], ignore_index=True)\n",
    "                    #Memory sensory trial\n",
    "                    precueTime = np.random.randint(precueTime_interval[0], precueTime_interval[1])\n",
    "                    trial = pd.DataFrame([[subNum, hand, 1, symbol, seq, 0, execTime, iti, precueTime, windowSize]], columns = block.columns)\n",
    "                    block = pd.concat([block, trial], ignore_index=True)\n",
    "\n",
    "\n",
    "            # Random Trials\n",
    "            for windowSize in windowSizes:\n",
    "                for _ in range(num_rep_rand):\n",
    "                    while True:\n",
    "                        seq = np.random.choice(valid_sequences)\n",
    "                        if seq not in trained_seqs:\n",
    "                            break\n",
    "                    symbol = random_symbol\n",
    "                    # Sensory only trial\n",
    "                    precueTime = np.random.randint(precueTime_interval[0], precueTime_interval[1])\n",
    "                    trial = pd.DataFrame([[subNum, hand, 0, symbol, seq, 0, execTime, iti, precueTime, windowSize]], columns = block.columns)\n",
    "                    block = pd.concat([block, trial], ignore_index=True)\n",
    "\n",
    "            block = block.sample(frac=1).reset_index(drop = True)\n",
    "            block.to_csv(f'SMSH1_subj{subNum}_session{session+1}_block{blocknum+1}.tgt', index=False, sep='\\t')\n",
    "\n",
    "\n",
    "\n",
    "\n",
    "    \n",
    "    \n",
    "    \n",
    "    "
   ]
  }
 ],
 "metadata": {
  "kernelspec": {
   "display_name": "Python 3",
   "language": "python",
   "name": "python3"
  },
  "language_info": {
   "codemirror_mode": {
    "name": "ipython",
    "version": 3
   },
   "file_extension": ".py",
   "mimetype": "text/x-python",
   "name": "python",
   "nbconvert_exporter": "python",
   "pygments_lexer": "ipython3",
   "version": "3.9.6"
  }
 },
 "nbformat": 4,
 "nbformat_minor": 2
}
